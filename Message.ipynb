{
  "nbformat": 4,
  "nbformat_minor": 0,
  "metadata": {
    "colab": {
      "name": "Message.ipynb",
      "provenance": [],
      "collapsed_sections": [],
      "include_colab_link": true
    },
    "kernelspec": {
      "name": "python3",
      "display_name": "Python 3"
    },
    "accelerator": "TPU"
  },
  "cells": [
    {
      "cell_type": "markdown",
      "metadata": {
        "id": "view-in-github",
        "colab_type": "text"
      },
      "source": [
        "<a href=\"https://colab.research.google.com/github/Enes-Shaltami/Anagram_Solver/blob/master/Message.ipynb\" target=\"_parent\"><img src=\"https://colab.research.google.com/assets/colab-badge.svg\" alt=\"Open In Colab\"/></a>"
      ]
    },
    {
      "cell_type": "code",
      "metadata": {
        "id": "3MmW0DjxDBgC"
      },
      "source": [
        "import simpy"
      ],
      "execution_count": null,
      "outputs": []
    },
    {
      "cell_type": "code",
      "metadata": {
        "id": "K4pVGZed54nW",
        "colab": {
          "base_uri": "https://localhost:8080/"
        },
        "outputId": "217febb8-2056-4b53-856f-a08343f11c84"
      },
      "source": [
        "!pip install simpy"
      ],
      "execution_count": null,
      "outputs": [
        {
          "output_type": "stream",
          "text": [
            "Collecting simpy\n",
            "  Downloading https://files.pythonhosted.org/packages/20/f9/874b0bab83406827db93292a5bbe5acb5c18e3cea665b2f6e053292cb687/simpy-4.0.1-py2.py3-none-any.whl\n",
            "Installing collected packages: simpy\n",
            "Successfully installed simpy-4.0.1\n"
          ],
          "name": "stdout"
        }
      ]
    },
    {
      "cell_type": "code",
      "metadata": {
        "id": "wlWyBhdx4BGU",
        "colab": {
          "base_uri": "https://localhost:8080/"
        },
        "outputId": "47fdee4b-a4b6-4a56-94ec-0cbf96bf1014"
      },
      "source": [
        "def car(env):\n",
        "  while True:\n",
        "    print('Start parking at %d' % env.now)\n",
        "    parking_duration = 5\n",
        "    yield env.timeout(parking_duration)\n",
        "    print('Start driving at %d' % env.now)\n",
        "    trip_duration = 2\n",
        "    yield env.timeout(trip_duration)\n",
        "\n",
        "env = simpy.Environment()\n",
        "env.process(car(env))\n",
        "env.run(until=15)\n",
        "\n"
      ],
      "execution_count": null,
      "outputs": [
        {
          "output_type": "stream",
          "text": [
            "Start parking at 0\n",
            "Start driving at 5\n",
            "Start parking at 7\n",
            "Start driving at 12\n",
            "Start parking at 14\n"
          ],
          "name": "stdout"
        }
      ]
    },
    {
      "cell_type": "code",
      "metadata": {
        "id": "kJZrn7Vv9dfL",
        "colab": {
          "base_uri": "https://localhost:8080/"
        },
        "outputId": "1f6dcbc5-4057-4ebd-8b8a-8fbfce35bf5d"
      },
      "source": [
        "#### ITERATION #1\n",
        "class Process:\n",
        "  domain = 0\n",
        "  process_id = -1\n",
        "  state = \"READY\"\n",
        "\n",
        "  def __init__(self, process_id, domain):\n",
        "    self.process_id = process_id\n",
        "    self.domain = domain\n",
        "\n",
        "  def setState(state):\n",
        "    self.state = state\n",
        "\n",
        "\n",
        "NEW_PROC = 3\n",
        "BLOCK_PROC = 5\n",
        "\n",
        "blocked_queue = []\n",
        "time_queue = []\n",
        "work_queue = []\n",
        "work_queue.append(Process(1, \"ARM\"))\n",
        "work_queue.append(Process(2, \"x86\"))\n",
        "work_queue.append(Process(3, \"RISC-V\"))\n",
        "work_queue.append(Process(4, \"MIPS\"))\n",
        "\n",
        "\n",
        "def Process_run(env, name, bcs, new_proc, interrupt):\n",
        "  # Simulate driving to the BCS\n",
        "  yield env.timeout(new_proc)\n",
        "\n",
        "  # Make a request\n",
        "  print('%s ready at %d' % (name, env.now))\n",
        "  with bcs.request() as req:\n",
        "    yield req # return the process with the curretn request\n",
        "\n",
        "  # Run the program\n",
        "    print('%s running its program at %s' % (name, env.now))\n",
        "    yield env.timeout(interrupt) # insert delay for interrupt\n",
        "    print('%s blocked from program at %s' % (name, env.now))\n",
        "\n",
        "\n",
        "env = simpy.Environment() # execution environment for event-based simulation\n",
        "bcs = simpy.Resource(env, capacity=1) # resources for environment with a capacity of processes\n",
        "\n",
        "for i in range(6): # instantiate 10 processes\n",
        "  env.process(Process_run(env, 'Process %d' % i, bcs, i*NEW_PROC, BLOCK_PROC))\n",
        "  \n",
        "# env.process(env, work_queue.pop(0), bcs, )\n",
        "\n",
        "env.run()\n"
      ],
      "execution_count": null,
      "outputs": [
        {
          "output_type": "stream",
          "text": [
            "Process 0 ready at 0\n",
            "Process 0 running its program at 0\n",
            "Process 1 ready at 3\n",
            "Process 0 blocked from program at 5\n",
            "Process 1 running its program at 5\n",
            "Process 2 ready at 6\n",
            "Process 3 ready at 9\n",
            "Process 1 blocked from program at 10\n",
            "Process 2 running its program at 10\n",
            "Process 4 ready at 12\n",
            "Process 5 ready at 15\n",
            "Process 2 blocked from program at 15\n",
            "Process 3 running its program at 15\n",
            "Process 3 blocked from program at 20\n",
            "Process 4 running its program at 20\n",
            "Process 4 blocked from program at 25\n",
            "Process 5 running its program at 25\n",
            "Process 5 blocked from program at 30\n"
          ],
          "name": "stdout"
        }
      ]
    },
    {
      "cell_type": "code",
      "metadata": {
        "colab": {
          "base_uri": "https://localhost:8080/",
          "height": 232
        },
        "id": "hwBGHTag_2Wq",
        "outputId": "cd1c4be0-60dc-4f0b-8b05-cdfc5b4ba67c"
      },
      "source": [
        "#### ITERATION #2\n",
        "import random\n",
        "import math\n",
        "class Process:\n",
        "  domain = 0\n",
        "  process_id = -1\n",
        "  state = \"READY\"\n",
        "  readyTime = 0\n",
        "  runningTime = 0\n",
        "  blockedTime = 0\n",
        "\n",
        "  def __init__(self, process_id, domain):\n",
        "    self.process_id = process_id\n",
        "    self.domain = domain\n",
        "\n",
        "  def setState(self, state):\n",
        "    self.state = state\n",
        "\n",
        "  def setRunningTime(self, time):\n",
        "    self.runningTime = time\n",
        "\n",
        "  def setReadyTime(self, time):\n",
        "    self.readyTime = time\n",
        "\n",
        "  def setBlockedTime(self, time):\n",
        "    self.blockedTime = time\n",
        "  \n",
        "  def getReadyTime(self):\n",
        "    return self.readyTime\n",
        "  def getProcessID(self):\n",
        "    return self.process_id\n",
        "\n",
        "def exponential_probability():\n",
        "  lam = 1\n",
        "  x = random.randrange(0, 10)\n",
        "  return lam * math.exp(-1 * lam * x) * 1000\n",
        "\n",
        "\n",
        "NEW_PROC = 3\n",
        "BLOCK_PROC = 5\n",
        "\n",
        "blocked_queue = []\n",
        "time_queue = []\n",
        "work_queue = []\n",
        "work_queue.append(Process(1, \"ARM\"))\n",
        "work_queue.append(Process(2, \"x86\"))\n",
        "work_queue.append(Process(3, \"RISC-V\"))\n",
        "work_queue.append(Process(4, \"MIPS\"))\n",
        "\n",
        "\n",
        "def Process_run(env, process, bcs):\n",
        "  # Simulate driving to the BCS\n",
        "  # yield env.timeout(5)\n",
        "  yield env.timeout(process.getReadyTime())\n",
        "\n",
        "  # # Make a request\n",
        "  print('Process ID %s ready at %d' % (process.getProcessID(), env.now))\n",
        "  with bcs.request() as req:\n",
        "    yield req # return the process with the curretn request\n",
        "\n",
        "  # # Run the program\n",
        "    print('Process ID %s running its program at %s' % (process.getProcessID(), env.now))\n",
        "    blocked_queue.append(process)\n",
        "    yield env.timeout(math.floor(exponential_probability())) # insert delay for interrupt\n",
        "    print('Process ID %s blocked from program at %s' % (process.getProcessID(), env.now))\n",
        "\n",
        "env = simpy.Environment() # execution environment for event-based simulation\n",
        "bcs = simpy.Resource(env, capacity=1) # resources for environment with a capacity of processes\n",
        "\n",
        "# for i in range(6): # instantiate 10 processes\n",
        "#   env.process(Process_run(env, 'Process %d' % i, bcs, i*NEW_PROC, BLOCK_PROC))\n",
        "  \n",
        "current_work = work_queue.pop(0)\n",
        "env.process(Process_run(env, current_work, bcs))\n",
        "\n",
        "current_work = work_queue.pop(0)\n",
        "env.process(Process_run(env, current_work, bcs))\n",
        "current_work = work_queue.pop(0)\n",
        "env.process(Process_run(env, current_work, bcs))\n",
        "\n",
        "env.run()\n",
        "print(exponential_probability())\n",
        "\n",
        "# current_work = work_queue.pop(0)\n",
        "# current_work.getReadyTime()\n"
      ],
      "execution_count": null,
      "outputs": [
        {
          "output_type": "error",
          "ename": "NameError",
          "evalue": "ignored",
          "traceback": [
            "\u001b[0;31m---------------------------------------------------------------------------\u001b[0m",
            "\u001b[0;31mNameError\u001b[0m                                 Traceback (most recent call last)",
            "\u001b[0;32m<ipython-input-1-935c30b60356>\u001b[0m in \u001b[0;36m<module>\u001b[0;34m()\u001b[0m\n\u001b[1;32m     65\u001b[0m     \u001b[0mprint\u001b[0m\u001b[0;34m(\u001b[0m\u001b[0;34m'Process ID %s blocked from program at %s'\u001b[0m \u001b[0;34m%\u001b[0m \u001b[0;34m(\u001b[0m\u001b[0mprocess\u001b[0m\u001b[0;34m.\u001b[0m\u001b[0mgetProcessID\u001b[0m\u001b[0;34m(\u001b[0m\u001b[0;34m)\u001b[0m\u001b[0;34m,\u001b[0m \u001b[0menv\u001b[0m\u001b[0;34m.\u001b[0m\u001b[0mnow\u001b[0m\u001b[0;34m)\u001b[0m\u001b[0;34m)\u001b[0m\u001b[0;34m\u001b[0m\u001b[0;34m\u001b[0m\u001b[0m\n\u001b[1;32m     66\u001b[0m \u001b[0;34m\u001b[0m\u001b[0m\n\u001b[0;32m---> 67\u001b[0;31m \u001b[0menv\u001b[0m \u001b[0;34m=\u001b[0m \u001b[0msimpy\u001b[0m\u001b[0;34m.\u001b[0m\u001b[0mEnvironment\u001b[0m\u001b[0;34m(\u001b[0m\u001b[0;34m)\u001b[0m \u001b[0;31m# execution environment for event-based simulation\u001b[0m\u001b[0;34m\u001b[0m\u001b[0;34m\u001b[0m\u001b[0m\n\u001b[0m\u001b[1;32m     68\u001b[0m \u001b[0mbcs\u001b[0m \u001b[0;34m=\u001b[0m \u001b[0msimpy\u001b[0m\u001b[0;34m.\u001b[0m\u001b[0mResource\u001b[0m\u001b[0;34m(\u001b[0m\u001b[0menv\u001b[0m\u001b[0;34m,\u001b[0m \u001b[0mcapacity\u001b[0m\u001b[0;34m=\u001b[0m\u001b[0;36m1\u001b[0m\u001b[0;34m)\u001b[0m \u001b[0;31m# resources for environment with a capacity of processes\u001b[0m\u001b[0;34m\u001b[0m\u001b[0;34m\u001b[0m\u001b[0m\n\u001b[1;32m     69\u001b[0m \u001b[0;34m\u001b[0m\u001b[0m\n",
            "\u001b[0;31mNameError\u001b[0m: name 'simpy' is not defined"
          ]
        }
      ]
    },
    {
      "cell_type": "code",
      "metadata": {
        "id": "MnYcHPdJNB6L",
        "colab": {
          "base_uri": "https://localhost:8080/",
          "height": 150
        },
        "outputId": "fb375f2a-75ee-461b-ca36-59f0141bf5e1"
      },
      "source": [
        "from functools import partial, wraps\n",
        "import simpy\n",
        "\n",
        "def trace(env, callback):\n",
        "  \"\"\"Replace the ``step()`` method of *env* with a tracing function\n",
        "  that calls *callbacks* with an events time, priority, ID and its\n",
        "  instance just before it is processed.\n",
        "\n",
        "     \"\"\"\n",
        "  def get_wrapper(env_step, callback):\n",
        "    \"\"\"Generate the wrapper for env.step().\"\"\"\n",
        "    @wraps(env_step)\n",
        "    def tracing_step():\n",
        "    \"\"\"Call *callback* for the next event if one exist before\n",
        "    calling ``env.step()``.\"\"\"\n",
        "      if len(env._queue):\n",
        "        t, prio, eid, event = env._queue[0]\n",
        "        callback(t, prio, eid, event)\n",
        "      return env_step()\n",
        "    return tracing_step\n",
        "\n",
        "  env.step = get_wrapper(env.step, callback)\n",
        "\n",
        "def monitor(data, t, prio, eid, event):\n",
        "  data.append((t, eid, type(event)))\n",
        "\n",
        "def test_process(env):\n",
        "  yield env.timeout(1)\n",
        "\n",
        "data = []\n",
        "# Bind *data* as first argument to monitor()\n",
        "# see https://docs.python.org/3/library/functools.html#functools.partial\n",
        "monitor = partial(monitor, data)\n",
        "\n",
        "env = simpy.Environment()\n",
        "trace(env, monitor)\n",
        "\n",
        "p = env.process(test_process(env))\n",
        "env.run(until=p)\n",
        "\n",
        "for d in data:\n",
        "  print(d)\n"
      ],
      "execution_count": null,
      "outputs": [
        {
          "output_type": "error",
          "ename": "IndentationError",
          "evalue": "ignored",
          "traceback": [
            "\u001b[0;36m  File \u001b[0;32m\"<ipython-input-43-e076c1ac8a24>\"\u001b[0;36m, line \u001b[0;32m15\u001b[0m\n\u001b[0;31m    calling ``env.step()``.\"\"\"\u001b[0m\n\u001b[0m                              \n^\u001b[0m\n\u001b[0;31mIndentationError\u001b[0m\u001b[0;31m:\u001b[0m expected an indented block\n"
          ]
        }
      ]
    }
  ]
}